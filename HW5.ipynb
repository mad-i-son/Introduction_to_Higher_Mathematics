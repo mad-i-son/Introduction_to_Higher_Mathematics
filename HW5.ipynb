{
 "cells": [
  {
   "cell_type": "markdown",
   "metadata": {},
   "source": [
    "1. Напишите код, моделирующий выпадение поля в рулетке (с учетом поля зеро)."
   ]
  },
  {
   "cell_type": "code",
   "execution_count": 1,
   "metadata": {},
   "outputs": [],
   "source": [
    "%matplotlib inline\n",
    "import numpy as np\n",
    "import matplotlib.pyplot as plt"
   ]
  },
  {
   "cell_type": "code",
   "execution_count": 4,
   "metadata": {},
   "outputs": [
    {
     "name": "stdout",
     "output_type": "stream",
     "text": [
      "\n",
      "Зеро\n",
      "\n",
      "Зеро\n",
      "\n",
      "Зеро\n",
      "\n",
      "Зеро\n",
      "\n",
      "Зеро\n"
     ]
    }
   ],
   "source": [
    "for i in range(0,5):\n",
    "    a = input()\n",
    "    x = np.random.uniform(0, 36)\n",
    "    if int(x)==0:\n",
    "        print(\"Зеро\")\n",
    "    else:\n",
    "        print(int(x)) "
   ]
  },
  {
   "cell_type": "markdown",
   "metadata": {},
   "source": [
    "2.Напишите код, проверяющий любую из теорем сложения или умножения вероятности на примере рулетки или подбрасывания монетки.\n",
    "б)Сгенерируйте десять выборок случайных чисел х0, …, х9.\n",
    "и постройте гистограмму распределения случайной суммы  +х0+ …+ х 9. "
   ]
  },
  {
   "cell_type": "code",
   "execution_count": 23,
   "metadata": {},
   "outputs": [
    {
     "data": {
      "text/plain": [
       "1.2370283334747456"
      ]
     },
     "execution_count": 23,
     "metadata": {},
     "output_type": "execute_result"
    }
   ],
   "source": [
    "np.random.uniform(0, 2)"
   ]
  },
  {
   "cell_type": "code",
   "execution_count": 8,
   "metadata": {},
   "outputs": [
    {
     "name": "stdout",
     "output_type": "stream",
     "text": [
      "Вероятность двух противополжных событий P(A) + P(B) = 1\n",
      "\n",
      "Орел\n",
      "[0.5]\n",
      "\n",
      "Решка\n",
      "При выпадении одной стороны дважды число благоприятных исходов совпадет с числом попыток и вероятность будет ровна\n",
      "При выпадении разных сторон вероятность кажлй стороны была равна 1/2 Число благоприятных событий на общее число\n",
      "[0.5, 0.5]\n"
     ]
    }
   ],
   "source": [
    "p = []\n",
    "print(\"Вероятность двух противополжных событий P(A) + P(B) = 1\")\n",
    "for i in range(0,2):\n",
    "    a = input()\n",
    "    x = np.random.uniform(0, 2)\n",
    "    \n",
    "    \n",
    "    if x > 1:\n",
    "        print(\"Орел\")\n",
    "        p.append(0.5)\n",
    "         \n",
    "    else:\n",
    "        print(\"Решка\")\n",
    "        p.append(0.5)\n",
    "    if (sum(p)) == 1:\n",
    "            print(\"При выпадении одной стороны дважды число благоприятных исходов совпадет с числом попыток и вероятность будет ровна 1\")\n",
    "            print(\"При выпадении разных сторон вероятность кажлй стороны была равна 1/2 Число благоприятных событий на общее число\")"
   ]
  },
  {
   "cell_type": "code",
   "execution_count": 4,
   "metadata": {},
   "outputs": [
    {
     "data": {
      "text/plain": [
       "[]"
      ]
     },
     "execution_count": 4,
     "metadata": {},
     "output_type": "execute_result"
    }
   ],
   "source": [
    "p"
   ]
  },
  {
   "cell_type": "code",
   "execution_count": 19,
   "metadata": {},
   "outputs": [
    {
     "data": {
      "text/plain": [
       "Text(0.5, 1.0, 'Histogram')"
      ]
     },
     "execution_count": 19,
     "metadata": {},
     "output_type": "execute_result"
    },
    {
     "data": {
      "image/png": "[encoded data removed]",
      "text/plain": [
       "<Figure size 432x288 with 1 Axes>"
      ]
     },
     "metadata": {
      "needs_background": "light"
     },
     "output_type": "display_data"
    }
   ],
   "source": [
    "allsums=[]\n",
    "for i in range(10):\n",
    "    x=np.random.rand(100)\n",
    "    allsums.append(sum(x))\n",
    "    i+=1\n",
    "num_bins = 10\n",
    "n, bins, patches = plt.hist(allsums, num_bins)\n",
    "plt.xlabel('summa')\n",
    "plt.ylabel('Probability')\n",
    "plt.title('Histogram')\n"
   ]
  },
  {
   "cell_type": "markdown",
   "metadata": {},
   "source": [
    "3.\n",
    "Дополните код Монте-Карло последовательности независимых испытаний расчетом соответствующих вероятностей (через биномиальное распределение) \n",
    "и сравните результаты.\n",
    "б) Повторите расчеты биномиальных коэффициентов и вероятностей k успехов в последовательности из n независимых испытаний, взяв другие значения n и k.\n"
   ]
  },
  {
   "cell_type": "code",
   "execution_count": 10,
   "metadata": {},
   "outputs": [],
   "source": [
    "import numpy as np\n",
    "import sys\n",
    "import math"
   ]
  },
  {
   "cell_type": "code",
   "execution_count": 42,
   "metadata": {},
   "outputs": [
    {
     "name": "stdout",
     "output_type": "stream",
     "text": [
      "4 4 1.0 0.0625 0.0026041666666666665\n"
     ]
    }
   ],
   "source": [
    "k, n = 2, 4\n",
    "a = np.random.randint(0, 2, n)\n",
    "b = np.random.randint(0, 2, n)\n",
    "c = np.random.randint(0, 2, n)\n",
    "d = np.random.randint(0, 2, n)\n",
    "x = a + b + c + d\n",
    "for i in range(0, n):\n",
    "    if x[i] == 2:\n",
    "        k = k + 1\n",
    "v=(0.5**k)*(0.5**(n-k))\n",
    "bernulli = math.factorial(2) * (1/(16)) /(math.factorial(4)*math.factorial(4-2)) \n",
    "#print(a, b, c, d)\n",
    "#print(x)\n",
    "print(k, n, k/n,v, bernulli)"
   ]
  }
 ],
 "metadata": {
  "kernelspec": {
   "display_name": "Python 3",
   "language": "python",
   "name": "python3"
  },
  "language_info": {
   "codemirror_mode": {
    "name": "ipython",
    "version": 3
   },
   "file_extension": ".py",
   "mimetype": "text/x-python",
   "name": "python",
   "nbconvert_exporter": "python",
   "pygments_lexer": "ipython3",
   "version": "3.7.6"
  }
 },
 "nbformat": 4,
 "nbformat_minor": 4
}
